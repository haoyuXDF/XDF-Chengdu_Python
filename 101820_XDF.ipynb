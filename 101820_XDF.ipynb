{
 "cells": [
  {
   "cell_type": "markdown",
   "metadata": {},
   "source": [
    "# Preface - Python Check\n",
    "\n",
    "* do you have python installed?\n",
    "    * which version?\n",
    "* do you have Jupyter?"
   ]
  },
  {
   "cell_type": "code",
   "execution_count": 17,
   "metadata": {},
   "outputs": [
    {
     "name": "stdout",
     "output_type": "stream",
     "text": [
      "Python Version\n",
      "3.8.3 (default, Jul  2 2020, 17:30:36) [MSC v.1916 64 bit (AMD64)]\n",
      "\n",
      "Current Working Path\n",
      "C:\\Users\\PINK\\Documents\\Untitled Folder\n"
     ]
    }
   ],
   "source": [
    "# import display to display the images\n",
    "from IPython.display import Image\n",
    "import sys\n",
    "im_path = sys.path[0] + '\\\\pycourse_images'\n",
    "\n",
    "# show python version and the current path\n",
    "import sys\n",
    "print('Python Version')\n",
    "print(sys.version)\n",
    "print()\n",
    "print('Current Working Path')\n",
    "print(sys.path[0])"
   ]
  },
  {
   "cell_type": "markdown",
   "metadata": {},
   "source": [
    "# Introduction\n",
    "This class will serve as an introduction to Python for complete beginners. If you have coding experience, as some of you do, you can spend more effort in these first few classes on learning the English terminology. Please be patient with your classmates and give everyone a chance to think for themselves.\n",
    "\n",
    "In this course, we will learn many of the basics of Python and then apply these skills to make some small games and solve or model some interesting problems. In order to get to the more interesting topics, we must first learn the basics of how this all works. Python is a good general-purpose language that is used in many different fields:\n",
    "* science\n",
    "* finance\n",
    "* engineering \n",
    "* etc.\n",
    "\n",
    "Of course many of these fields use other languages as well. Python is a good choice for beginners because it is often very readable - if a human without coding experience reads the input, they will usually understand what is happening. Though that does not mean it is only used by beginners nor does it mean that the programming does not get more complicated.\n",
    "\n",
    "Today we will cover\n",
    "* Command Prompt Navigation\n",
    "* Math Operators\n",
    "* Variables\n",
    "* Data Types"
   ]
  },
  {
   "cell_type": "markdown",
   "metadata": {},
   "source": [
    "# Part 0 -  General IPython Tips\n",
    "\n",
    "#### Comments\n",
    "Comments can be used by entering `#` at the start of a line of code\n",
    "* comments are not read when running (or 'executing') your code\n",
    "* they are a crucial part of coding because you can write what it is that your lines of code are doing, this can help you to gather your thoughts as well as understand what each part does when you return to your code at another time\n",
    "\n",
    "#### Running your code\n",
    "You run your code by pressing `Shift` + `Enter` or `Ctrl` + `Enter`\n",
    "* you can also run by pressing 运行 at the top, but it is faster to just use the keyboard\n",
    "\n",
    "#### Code vs. Markdown\n",
    "In the upper bar, you may see 代码 (code), this is the standard setting to input code that will be execute\n",
    "If you click it, there is also something called Markdown, which can be used for inputting normal text into the IPython notebook. For example, this is written in Markdown, and the lines beneath this box are written in 代码 (code).\n",
    "\n",
    "#### IPython notebook shortcuts\n",
    "If you click the keyboard icon at the top of the page (next to the 代码 dropdown), you can see and set various shortcuts to use. These are all accessed by first pressing `Esc` (they call this 'command mode') and then pressing the corresponding button. Do not press them simultaneously - first `Esc`, then the other key.\n",
    "\n",
    "Some important shortcuts include:\n",
    "\n",
    "##### Go to the next line \n",
    "   `Esc` then `B`\n",
    "\n",
    "##### Switch to Markdown \n",
    "   `Esc` then `M` \n",
    "    \n",
    "##### Switch to Code \n",
    "   `Esc` then `Y`\n",
    "\n",
    "##### Delete a section of code \n",
    "   `Esc` then `X`\n"
   ]
  },
  {
   "cell_type": "markdown",
   "metadata": {},
   "source": [
    "## Chinese in IPython\n",
    "\n",
    "##### Chinese characters can...\n",
    "Chinese characters can be used as variable names and be printed \n",
    "\n",
    "##### Chinese characters can't...\n",
    "Chinese characters cannot be used as function names; \n",
    "\n",
    "Chinese keyboard syntax like `（）`or `：`or `‘’` can not be used, so be careful that you did not accidentally switch! ;\n",
    "\n",
    "Chinese translation of built-in functions like `print()` do not work. `打印（）` will not work.\n",
    "\n",
    "\n",
    "##### The lines below will test some cases of using Chinese in Python....\n"
   ]
  },
  {
   "cell_type": "code",
   "execution_count": 69,
   "metadata": {},
   "outputs": [
    {
     "name": "stdout",
     "output_type": "stream",
     "text": [
      "你好\n"
     ]
    }
   ],
   "source": [
    "print('你好')    # Chinese characters can  be used as strings!"
   ]
  },
  {
   "cell_type": "code",
   "execution_count": 61,
   "metadata": {},
   "outputs": [
    {
     "ename": "SyntaxError",
     "evalue": "invalid character in identifier (<ipython-input-61-17ddd647ef0e>, line 1)",
     "output_type": "error",
     "traceback": [
      "\u001b[1;36m  File \u001b[1;32m\"<ipython-input-61-17ddd647ef0e>\"\u001b[1;36m, line \u001b[1;32m1\u001b[0m\n\u001b[1;33m    print(‘no’) #Chinese ‘’ causes error\u001b[0m\n\u001b[1;37m             ^\u001b[0m\n\u001b[1;31mSyntaxError\u001b[0m\u001b[1;31m:\u001b[0m invalid character in identifier\n"
     ]
    }
   ],
   "source": [
    "print(‘no’) #Chinese ‘’ causes error"
   ]
  },
  {
   "cell_type": "code",
   "execution_count": 71,
   "metadata": {},
   "outputs": [
    {
     "name": "stdout",
     "output_type": "stream",
     "text": [
      "15\n"
     ]
    }
   ],
   "source": [
    "水果 = 5\n",
    "\n",
    "价格 = 3*水果\n",
    "\n",
    "print(价格)        # Chinese characters can be used as variables!"
   ]
  },
  {
   "cell_type": "code",
   "execution_count": 72,
   "metadata": {},
   "outputs": [
    {
     "ename": "SyntaxError",
     "evalue": "invalid character in identifier (<ipython-input-72-557ed571b721>, line 1)",
     "output_type": "error",
     "traceback": [
      "\u001b[1;36m  File \u001b[1;32m\"<ipython-input-72-557ed571b721>\"\u001b[1;36m, line \u001b[1;32m1\u001b[0m\n\u001b[1;33m    def 可以了吗()： #Chinese function name does not work\u001b[0m\n\u001b[1;37m              ^\u001b[0m\n\u001b[1;31mSyntaxError\u001b[0m\u001b[1;31m:\u001b[0m invalid character in identifier\n"
     ]
    }
   ],
   "source": [
    "def 可以了吗()： #Chinese function name does not work\n",
    "   print(5)\n",
    "\n",
    "可以了吗()"
   ]
  },
  {
   "cell_type": "code",
   "execution_count": 68,
   "metadata": {},
   "outputs": [
    {
     "name": "stdout",
     "output_type": "stream",
     "text": [
      "5\n"
     ]
    }
   ],
   "source": [
    "def does_it_work():  #English equivalent\n",
    "    print (5)\n",
    "\n",
    "does_it_work()       # Yes it does work"
   ]
  },
  {
   "cell_type": "code",
   "execution_count": 73,
   "metadata": {},
   "outputs": [
    {
     "name": "stdout",
     "output_type": "stream",
     "text": [
      "5\n"
     ]
    },
    {
     "ename": "NameError",
     "evalue": "name '打印' is not defined",
     "output_type": "error",
     "traceback": [
      "\u001b[1;31m---------------------------------------------------------------------------\u001b[0m",
      "\u001b[1;31mNameError\u001b[0m                                 Traceback (most recent call last)",
      "\u001b[1;32m<ipython-input-73-bfa3daf71c83>\u001b[0m in \u001b[0;36m<module>\u001b[1;34m\u001b[0m\n\u001b[0;32m      2\u001b[0m \u001b[1;33m\u001b[0m\u001b[0m\n\u001b[0;32m      3\u001b[0m \u001b[0mprint\u001b[0m\u001b[1;33m(\u001b[0m\u001b[1;36m5\u001b[0m\u001b[1;33m)\u001b[0m\u001b[1;33m\u001b[0m\u001b[1;33m\u001b[0m\u001b[0m\n\u001b[1;32m----> 4\u001b[1;33m \u001b[0m打印\u001b[0m\u001b[1;33m(\u001b[0m\u001b[1;36m5\u001b[0m\u001b[1;33m)\u001b[0m \u001b[1;31m# this doesn't work, notice the color of functions changes to green\u001b[0m\u001b[1;33m\u001b[0m\u001b[1;33m\u001b[0m\u001b[0m\n\u001b[0m",
      "\u001b[1;31mNameError\u001b[0m: name '打印' is not defined"
     ]
    }
   ],
   "source": [
    "#Translation of built in functions\n",
    "\n",
    "print(5)\n",
    "打印(5) # this doesn't work, notice the color of functions changes to green"
   ]
  },
  {
   "cell_type": "markdown",
   "metadata": {},
   "source": [
    "## Command Prompt - Getting around in Windows\n",
    "\n",
    "#### Why are we learning this?\n",
    "Learning the basics of the Command Prompt is important because it is often important to know where you are in your computer when coding. This can happen because you want to include a file (maybe some data or pictures) in your program. In order to do this, you need to know where in your computer they are - because the computer needs to know where to find them.\n",
    "\n",
    "On you computer, your location is called a `path`, it is kind of like an address of where you are. \n",
    "\n",
    "An example of a path is `C:\\Users\\Sean\\Documents\\Untitled Folder`.\n",
    "\n",
    "* we will also use the command prompt to open IPython!\n",
    "\n",
    "#### Help #\n",
    "`help`\n",
    "\n",
    "#### Show directory (folder) #\n",
    "`dir`\n",
    "\n",
    "#### Change directory #\n",
    "cd {directory name}\n",
    "* you can use TAB to autocomplete (tap to cycle through options)\n",
    "* you can navigate through multiple folders at once by connecting with a   \\\n",
    "* you can just type the drive letter (d: for example for the D drive） to change the drive\n",
    "\n",
    "* `..` represents going 'back' one level in your directory\n",
    "\n",
    "#### Create a folder #\n",
    "`mkdir {folder name}` \\\n",
    "\\\n",
    "do not type in the `{` or `}`, just the name\n",
    "\n",
    "#### Create a text file #\n",
    "`echo > {what you write here will be in the file}> {filename}.txt`\n",
    "\n",
    "#### Delete a file #\n",
    "`del {file name}`\n",
    "\n",
    "#### Delete a folder #\n",
    "`rmdir {folder name}`\n",
    "\n",
    "#### Open a file #\n",
    "`{interpreter to be used} {filename}`\n",
    "* usually just need to type in the file name\n",
    "\n",
    "#### Move a file\n",
    "\n",
    "`move {file to move} {new directory}`\n",
    "\n",
    "#### Open a Jupyter Notebook #\n",
    "`jupyter notebook {file name (optional)}`\n",
    "\n",
    "#### Command Prompt in Python\n",
    "can type `!`, such as `! dir` to see the directory you are working in currently."
   ]
  },
  {
   "cell_type": "markdown",
   "metadata": {},
   "source": [
    "### Command Prompt Practice Task:\n",
    "    1. Everybody navigate to a location of their choice and make a file named \"Shrubbery\" \n",
    "    2. Go inside that folder and look at its contents\n",
    "    3. Inside that folder, make a text file that says whatever you want, name it \"sparrow.txt\" \n",
    "    4. Look at the folder once more\n",
    "    5. Open sparrow.txt\n",
    "    6. Close sparrow.txt\n",
    "    7. Make another folder called \"Rabbit\" \n",
    "\n",
    "\n",
    "    8. Exit command prompt\n",
    "\n",
    "    9. Navigate to Shrubbery\n",
    "    10. Delete sparrow.txt\n",
    "    11. Delete Rabbit\n",
    "    12. Delete Shrubbery\n",
    "    13. Look at your directory\n"
   ]
  },
  {
   "cell_type": "markdown",
   "metadata": {},
   "source": [
    "# Part 1: First Program - Hello World!\n",
    "\n",
    "Let's say hello to the world...\n",
    "\n",
    "Type this in:\n",
    "\n",
    "`print(\"hello World!\")`\n",
    "\n",
    "and run it (remember `Shift` + `Enter`)"
   ]
  },
  {
   "cell_type": "code",
   "execution_count": 74,
   "metadata": {},
   "outputs": [
    {
     "name": "stdout",
     "output_type": "stream",
     "text": [
      "hello World!\n"
     ]
    }
   ],
   "source": [
    "print(\"hello World!\")            # will look like this"
   ]
  },
  {
   "cell_type": "markdown",
   "metadata": {},
   "source": [
    "#### Now lets add a few parts. Some of it might  not make sense right now, but that is okay. It is explained later. Just copy it like it is shown below.\n",
    "\n",
    "\n",
    "`print('Hi, what is your name?')\n",
    "name = input()\n",
    "print('It is very nice to meet you ' + name +'!')`\n",
    "\n",
    "##### Have this code in the same 'box', wait until you have all 3 lines before you run it"
   ]
  },
  {
   "cell_type": "code",
   "execution_count": 77,
   "metadata": {},
   "outputs": [
    {
     "name": "stdout",
     "output_type": "stream",
     "text": [
      "Hi, what is your name?\n",
      "Sean\n",
      "It is very nice to meet you Sean!\n"
     ]
    }
   ],
   "source": [
    "print('Hi, what is your name?')\n",
    "name = input()\n",
    "print('It is very nice to meet you ' + name + '!')"
   ]
  },
  {
   "cell_type": "markdown",
   "metadata": {},
   "source": [
    "# Simple Math\n",
    "\n",
    "`2 + 2`\n",
    "\n",
    "`3 - 1`\n",
    "\n",
    "`5 * 7`\n",
    "\n",
    "`8 / 2`\n",
    "\n",
    "`5 / 2`\n",
    "\n",
    "\n",
    "What do we think these will $\\bf{output}$?"
   ]
  },
  {
   "cell_type": "code",
   "execution_count": 20,
   "metadata": {},
   "outputs": [
    {
     "data": {
      "text/plain": [
       "9"
      ]
     },
     "execution_count": 20,
     "metadata": {},
     "output_type": "execute_result"
    }
   ],
   "source": [
    "4 + 5"
   ]
  },
  {
   "cell_type": "markdown",
   "metadata": {},
   "source": [
    "#### Terminology of this Operation\n",
    "$\\bf{operands}$: 4, 5\n",
    "\n",
    "$\\bf{operator}$: +\n",
    "\n",
    "$\\bf{output}$: 9"
   ]
  },
  {
   "cell_type": "markdown",
   "metadata": {},
   "source": [
    "## Arithmetic Operators\n",
    "\n",
    "Addition `+`\n",
    "\n",
    "\n",
    "Subtraction `-`\n",
    "\n",
    "Multiplication `*`\n",
    "\n",
    "Division `/`\n",
    "\n",
    "Exponent `**`\n",
    "\n",
    "Modulus `%` \n",
    "\n",
    "Floor Division `//`\n",
    "\n",
    "\n",
    "#### Check and see what these do, particularly `**`, `%`, and `//`.\n",
    "\n",
    "\n",
    "\n"
   ]
  },
  {
   "cell_type": "markdown",
   "metadata": {},
   "source": [
    "Lets try some of these:\n",
    "\n",
    "1. `2+2+2+2+2`\n",
    "2. `2*2*2*3`\n",
    "3. `4 / 3 * 4 + 2`\n",
    "4. `3 + 2 + 4 * 2`\n",
    "5. `2 * 4 + 2 * 3`\n",
    "6. `3 + 5 // 2`\n",
    "7. `3**2 % 8`\n",
    "8. `8 * 3 / 2 + 2 + 7 - 9`"
   ]
  },
  {
   "cell_type": "code",
   "execution_count": 21,
   "metadata": {},
   "outputs": [
    {
     "data": {
      "text/plain": [
       "2"
      ]
     },
     "execution_count": 21,
     "metadata": {},
     "output_type": "execute_result"
    }
   ],
   "source": [
    "8 // 3"
   ]
  },
  {
   "cell_type": "markdown",
   "metadata": {},
   "source": [
    "### Order of Operations\n",
    "Just like in regular math, arithmetic in python follows an `order of operations`.\n",
    "In English we often use the mnemonic phrase\n",
    "\n",
    "PEMDAS = `Please Excuse My Dear Aunt Sally` for \\\n",
    "`parentheses, exponents, {multiplication, division}, {addition, subtraction}`"
   ]
  },
  {
   "cell_type": "code",
   "execution_count": 78,
   "metadata": {},
   "outputs": [
    {
     "data": {
      "image/jpeg": "[encoded data removed]",
      "text/plain": [
       "<IPython.core.display.Image object>"
      ]
     },
     "execution_count": 78,
     "metadata": {
      "image/jpeg": {
       "height": 75,
       "width": 200
      }
     },
     "output_type": "execute_result"
    }
   ],
   "source": [
    "Image(filename=im_path+'\\\\00028.jpeg', width=200, height=75)"
   ]
  },
  {
   "cell_type": "markdown",
   "metadata": {},
   "source": [
    "## Variables\n",
    "\n",
    "* a variable is a label that you give for a value. The name can be anything - though it is good to use a name that reflects what the value is for\n",
    "\n",
    "* for example, if you want to store a value for your age, you can input `age = 13`"
   ]
  },
  {
   "cell_type": "code",
   "execution_count": 23,
   "metadata": {},
   "outputs": [],
   "source": [
    "# Store the pics that will be used in this section\n",
    "variable_pic1 = Image(filename=im_path+'\\\\00029.jpeg', width=250, height=100)\n",
    "variable_pic2 = Image(filename=im_path+'\\\\00030.jpeg', width=100, height=150)\n",
    "variable_pic3 = Image(filename=im_path+'\\\\00031.jpeg', width=250, height=100)\n",
    "variable_pic4 = Image(filename=im_path+'\\\\00033.jpeg', width=350, height=300)\n",
    "vpics = list((variable_pic1,variable_pic2, variable_pic3, variable_pic4))"
   ]
  },
  {
   "cell_type": "markdown",
   "metadata": {},
   "source": [
    "lets make a variable called `spam` and set it to the value 15.\n",
    "\n",
    "try `spam = 15`\n",
    "\n",
    "and `15 = spam2`\n",
    "\n",
    "##### What is the difference?"
   ]
  },
  {
   "cell_type": "code",
   "execution_count": 24,
   "metadata": {},
   "outputs": [
    {
     "data": {
      "image/jpeg": "[encoded data removed]",
      "text/plain": [
       "<IPython.core.display.Image object>"
      ]
     },
     "execution_count": 24,
     "metadata": {
      "image/jpeg": {
       "height": 100,
       "width": 250
      }
     },
     "output_type": "execute_result"
    }
   ],
   "source": [
    "vpics[0]"
   ]
  },
  {
   "cell_type": "code",
   "execution_count": 25,
   "metadata": {},
   "outputs": [],
   "source": [
    "spam = 15"
   ]
  },
  {
   "cell_type": "code",
   "execution_count": 26,
   "metadata": {},
   "outputs": [
    {
     "data": {
      "text/plain": [
       "18"
      ]
     },
     "execution_count": 26,
     "metadata": {},
     "output_type": "execute_result"
    }
   ],
   "source": [
    "spam + 3"
   ]
  },
  {
   "cell_type": "code",
   "execution_count": 27,
   "metadata": {},
   "outputs": [
    {
     "data": {
      "text/plain": [
       "18"
      ]
     },
     "execution_count": 27,
     "metadata": {},
     "output_type": "execute_result"
    }
   ],
   "source": [
    "15 + 3"
   ]
  },
  {
   "cell_type": "markdown",
   "metadata": {},
   "source": [
    "Now lets set `spam` to be equal to `spam + 5`\n",
    "\n",
    "`spam = spam + 5`"
   ]
  },
  {
   "cell_type": "code",
   "execution_count": 28,
   "metadata": {},
   "outputs": [
    {
     "data": {
      "image/jpeg": "[encoded data removed]",
      "text/plain": [
       "<IPython.core.display.Image object>"
      ]
     },
     "execution_count": 28,
     "metadata": {
      "image/jpeg": {
       "height": 150,
       "width": 100
      }
     },
     "output_type": "execute_result"
    }
   ],
   "source": [
    "vpics[1]"
   ]
  },
  {
   "cell_type": "markdown",
   "metadata": {},
   "source": [
    "`spam` is just a label and we can change it to be set to any value\n",
    "\n",
    "let's change `spam` to be 3 instead of 15"
   ]
  },
  {
   "cell_type": "code",
   "execution_count": 29,
   "metadata": {},
   "outputs": [
    {
     "data": {
      "image/jpeg": "[encoded data removed]",
      "text/plain": [
       "<IPython.core.display.Image object>"
      ]
     },
     "execution_count": 29,
     "metadata": {
      "image/jpeg": {
       "height": 100,
       "width": 250
      }
     },
     "output_type": "execute_result"
    }
   ],
   "source": [
    "vpics[2]"
   ]
  },
  {
   "cell_type": "markdown",
   "metadata": {},
   "source": [
    "Lets make 2 variables, `eggs` and `bacon` and set them equal to the values below. Let's say that these values are their prices in RMB"
   ]
  },
  {
   "cell_type": "code",
   "execution_count": 30,
   "metadata": {},
   "outputs": [
    {
     "data": {
      "image/jpeg": "[encoded data removed]",
      "text/plain": [
       "<IPython.core.display.Image object>"
      ]
     },
     "execution_count": 30,
     "metadata": {
      "image/jpeg": {
       "height": 300,
       "width": 350
      }
     },
     "output_type": "execute_result"
    }
   ],
   "source": [
    "vpics[3]"
   ]
  },
  {
   "cell_type": "markdown",
   "metadata": {},
   "source": [
    "##### Let's calculate the cost of breakfast:####\n",
    "\n",
    "call the variable whatever you like and set it equal to `eggs + bacon`"
   ]
  },
  {
   "cell_type": "code",
   "execution_count": 32,
   "metadata": {},
   "outputs": [],
   "source": [
    "eggs = 15\n",
    "bacon = 10\n",
    "breakfast = eggs + bacon"
   ]
  },
  {
   "cell_type": "code",
   "execution_count": 33,
   "metadata": {},
   "outputs": [
    {
     "data": {
      "text/plain": [
       "25"
      ]
     },
     "execution_count": 33,
     "metadata": {},
     "output_type": "execute_result"
    }
   ],
   "source": [
    "breakfast"
   ]
  },
  {
   "cell_type": "code",
   "execution_count": null,
   "metadata": {},
   "outputs": [],
   "source": [
    "import time"
   ]
  },
  {
   "cell_type": "markdown",
   "metadata": {},
   "source": [
    "#### Let's learn a few more concepts, and then apply this knowledge of math and variables to an example...\n",
    "\n",
    "\n",
    "### Key Data Types (for today)\n",
    " \n",
    "#### Integers                         \n",
    "    These are whole numbers {-2, -1, 0, 1, 2}\n",
    "            \n",
    "#### Floats\n",
    "    These have decimal values {-2.1, -1.0, 0.0, 1.2, 2.9}\n",
    "        \n",
    "#### Strings\n",
    "    These are text and are not stored as numbers \n",
    "    \n",
    "* you can ask for input from the user by entering `input()`, it will record your input as a string.\n",
    "\n",
    "* you can set a variable equal to whatever the user inputs (like we did for 'hello world') `name = input()` \n",
    "\n",
    " \n",
    " \n",
    "### How can I check the data type?\n",
    "You can use the function `type()` to determine the data type\n",
    "\n",
    "##### for example..."
   ]
  },
  {
   "cell_type": "code",
   "execution_count": 80,
   "metadata": {},
   "outputs": [],
   "source": [
    "a = 'three'   # setting the variables\n",
    "b = 3\n",
    "c = 3.0\n",
    "\n",
    "d = '3.0'"
   ]
  },
  {
   "cell_type": "code",
   "execution_count": 81,
   "metadata": {},
   "outputs": [
    {
     "name": "stdout",
     "output_type": "stream",
     "text": [
      "<class 'str'>\n",
      "<class 'int'>\n",
      "<class 'float'>\n",
      "<class 'str'>\n"
     ]
    }
   ],
   "source": [
    "print(type(a)) # printing the type of each variables\n",
    "print(type(b))\n",
    "print(type(c))\n",
    "\n",
    "print(type(d))"
   ]
  },
  {
   "cell_type": "markdown",
   "metadata": {},
   "source": [
    "`a` is a string \\\n",
    "`b` is an integer \\\n",
    "`c` is a float \\\n",
    "\\\n",
    "`d` is also a string"
   ]
  },
  {
   "cell_type": "markdown",
   "metadata": {},
   "source": [
    "### How to switch between data types\n",
    "\n",
    "`float(a)` will change `a` to a float.\n",
    "\n",
    "`str(a)` will change `a` to a string.\n",
    "\n",
    "`int(a)` will change `a` to an int."
   ]
  },
  {
   "cell_type": "code",
   "execution_count": 82,
   "metadata": {},
   "outputs": [
    {
     "name": "stdout",
     "output_type": "stream",
     "text": [
      "1\n",
      "<class 'str'>\n",
      "\n",
      "1.0\n",
      "<class 'float'>\n",
      "\n",
      "1\n",
      "<class 'int'>\n"
     ]
    }
   ],
   "source": [
    "x = '1'\n",
    "print(x)                   # shows x\n",
    "print (type(x))            # shows the type of x\n",
    "print()\n",
    "\n",
    "\n",
    "y = float(x)              # change x (a string) to y (a float)\n",
    "print(y)            \n",
    "print(type(y))\n",
    "print()\n",
    "\n",
    "z = int(y)               # change y (a float) to z (an integer)\n",
    "print (z)\n",
    "print(type(z))"
   ]
  },
  {
   "cell_type": "markdown",
   "metadata": {},
   "source": [
    "The code below doesn't work due to an issue with data types (see homework to fix)"
   ]
  },
  {
   "cell_type": "code",
   "execution_count": 79,
   "metadata": {},
   "outputs": [
    {
     "name": "stdout",
     "output_type": "stream",
     "text": [
      "Good morning and welcome to my diner\n",
      "How many eggs would you like?\n",
      "2\n",
      "and bacon?\n",
      "3\n",
      "We'll get started right away on your order.\n"
     ]
    },
    {
     "ename": "TypeError",
     "evalue": "can only concatenate str (not \"float\") to str",
     "output_type": "error",
     "traceback": [
      "\u001b[1;31m---------------------------------------------------------------------------\u001b[0m",
      "\u001b[1;31mTypeError\u001b[0m                                 Traceback (most recent call last)",
      "\u001b[1;32m<ipython-input-79-5a52f2c4856e>\u001b[0m in \u001b[0;36m<module>\u001b[1;34m\u001b[0m\n\u001b[0;32m      9\u001b[0m \u001b[0mprice\u001b[0m \u001b[1;33m=\u001b[0m \u001b[0mnum_eggss\u001b[0m \u001b[1;33m*\u001b[0m \u001b[0meggs\u001b[0m \u001b[1;33m+\u001b[0m \u001b[0mnum_bacons\u001b[0m \u001b[1;33m*\u001b[0m \u001b[0mbacon\u001b[0m\u001b[1;33m\u001b[0m\u001b[1;33m\u001b[0m\u001b[0m\n\u001b[0;32m     10\u001b[0m \u001b[0mtime\u001b[0m\u001b[1;33m.\u001b[0m\u001b[0msleep\u001b[0m\u001b[1;33m(\u001b[0m\u001b[1;36m1.0\u001b[0m\u001b[1;33m)\u001b[0m\u001b[1;33m\u001b[0m\u001b[1;33m\u001b[0m\u001b[0m\n\u001b[1;32m---> 11\u001b[1;33m \u001b[0mprint\u001b[0m\u001b[1;33m(\u001b[0m\u001b[1;34m'Once you are finished, the total will be '\u001b[0m \u001b[1;33m+\u001b[0m \u001b[0mprice\u001b[0m \u001b[1;33m+\u001b[0m\u001b[1;34m' RMB, thank you!'\u001b[0m\u001b[1;33m)\u001b[0m\u001b[1;33m\u001b[0m\u001b[1;33m\u001b[0m\u001b[0m\n\u001b[0m",
      "\u001b[1;31mTypeError\u001b[0m: can only concatenate str (not \"float\") to str"
     ]
    }
   ],
   "source": [
    "print('Good morning and welcome to my diner')\n",
    "time.sleep(1.0)                                        #just makes the program wait a moment, for effect\n",
    "print('How many eggs would you like?')\n",
    "num_eggs = input()\n",
    "print('and bacon?')\n",
    "num_bacon = input()\n",
    "print(\"We'll get started right away on your order.\")\n",
    "\n",
    "price = num_eggss * eggs + num_bacons * bacon\n",
    "time.sleep(1.0)\n",
    "print('Once you are finished, the total will be ' + price +' RMB, thank you!')"
   ]
  },
  {
   "cell_type": "markdown",
   "metadata": {},
   "source": [
    "### Another important data type is `lists`"
   ]
  },
  {
   "cell_type": "code",
   "execution_count": null,
   "metadata": {},
   "outputs": [],
   "source": [
    "foodnames = ['apples', 'oranges', 'bananas', 'watermelons']\n",
    "foodprices = [1.0, 3.0, 2.0, 8.0]\n",
    "\n",
    "number_of_items = len(foodnames)"
   ]
  },
  {
   "cell_type": "code",
   "execution_count": null,
   "metadata": {},
   "outputs": [],
   "source": [
    "type(foodnames)"
   ]
  },
  {
   "cell_type": "code",
   "execution_count": null,
   "metadata": {},
   "outputs": [],
   "source": [
    "len(foodnames)"
   ]
  },
  {
   "cell_type": "markdown",
   "metadata": {},
   "source": [
    "##### what does `len( )` show?"
   ]
  },
  {
   "cell_type": "markdown",
   "metadata": {},
   "source": [
    "* you can also take out a single entry from a list using what is called an `index`\n",
    "\n",
    "in `foodnames[i]`, `i` is called the index, and should be an integer"
   ]
  },
  {
   "cell_type": "markdown",
   "metadata": {},
   "source": [
    "Let's make a list and see how indexing works\n",
    "\n",
    "## Lists and indexing \n",
    "\n",
    "`mylist = [4,3,2,1,2,3,4,5]`\n",
    "\n",
    "### How many entries are in my list?\n",
    "\n",
    "`len(mylist)`\n",
    "\n",
    "### What is the maximum of my list?\n",
    "\n",
    "`max(mylist)`\n",
    "\n",
    "### What is the minimum of my list?\n",
    "\n",
    "`min(mylist)`\n",
    "\n",
    "### What is the sum of my list?\n",
    "\n",
    "`sum(mylist)`\n",
    "\n",
    "##### now, what do you think these would show?\n",
    "\n",
    "1. `mylist[1]`\n",
    "\n",
    "2. `mylist[0]`\n",
    "\n",
    "3. `mylist[-1]`\n",
    "\n",
    "4. `mylist[len(mylist)]`\n"
   ]
  },
  {
   "cell_type": "markdown",
   "metadata": {},
   "source": [
    "adding, multiplying lists\n"
   ]
  },
  {
   "cell_type": "code",
   "execution_count": 83,
   "metadata": {},
   "outputs": [],
   "source": [
    "import numpy as np"
   ]
  },
  {
   "cell_type": "code",
   "execution_count": 84,
   "metadata": {},
   "outputs": [],
   "source": [
    "foodnames = ['apples', 'oranges', 'bananas', 'watermelons']\n",
    "foodprices = [1.0, 3.0, 2.0, 8.0]\n",
    "\n",
    "number_of_items = len(foodnames)"
   ]
  },
  {
   "cell_type": "code",
   "execution_count": 86,
   "metadata": {},
   "outputs": [],
   "source": [
    "np.zeros_like?"
   ]
  },
  {
   "cell_type": "code",
   "execution_count": 85,
   "metadata": {},
   "outputs": [
    {
     "name": "stdout",
     "output_type": "stream",
     "text": [
      "Hi, welcome to Fruitopia!\n",
      "Have a look at our menu.\n",
      "\n",
      "MENU\n",
      "-------------------\n",
      "apples : 1.0\n",
      "oranges : 3.0\n",
      "bananas : 2.0\n",
      "watermelons : 8.0\n",
      "\n",
      "How many apples would you like?\n",
      "3\n",
      "How many oranges would you like?\n",
      "2\n",
      "How many bananas would you like?\n",
      "1\n",
      "How many watermelons would you like?\n",
      "4\n",
      "\n",
      "*hard thinking\n",
      "\n",
      "Your total comes to 43.0 RMB. 欢迎再来！\n"
     ]
    }
   ],
   "source": [
    "print('Hi, welcome to Fruitopia!')\n",
    "time.sleep(1.0)\n",
    "print('Have a look at our menu.')\n",
    "time.sleep(0.5)\n",
    "print()\n",
    "print('MENU')\n",
    "print('-------------------')\n",
    "\n",
    "i = 0                     # counter\n",
    "while i < len(foodnames):\n",
    "    print(foodnames[i] + ' : ' + str(foodprices[i]))\n",
    "    i+=1\n",
    "print()\n",
    "time.sleep(2.0)\n",
    "\n",
    "i=0\n",
    "numfruit = np.zeros_like(foodprices)                                # np.zeros_like(xyz) creates an array that is the same size as xyz \n",
    "\n",
    "while i < len(foodnames):\n",
    "    print('How many ' +foodnames[i] +' would you like?')\n",
    "    shuiguo = input()\n",
    "    numfruit[i] = float(shuiguo)\n",
    "    i += 1\n",
    "    \n",
    "\n",
    "prices = numfruit * foodprices\n",
    "\n",
    "price = sum(prices)\n",
    "\n",
    "print()\n",
    "print('*hard thinking')\n",
    "print()\n",
    "time.sleep(2.5)\n",
    "print('Your total comes to ' + str(price) + ' RMB. 欢迎再来！')\n",
    "\n"
   ]
  },
  {
   "cell_type": "markdown",
   "metadata": {},
   "source": [
    "## HW:Choose your own adventure?\n",
    "details to come"
   ]
  },
  {
   "cell_type": "code",
   "execution_count": null,
   "metadata": {},
   "outputs": [],
   "source": []
  }
 ],
 "metadata": {
  "kernelspec": {
   "display_name": "Python 3",
   "language": "python",
   "name": "python3"
  },
  "language_info": {
   "codemirror_mode": {
    "name": "ipython",
    "version": 3
   },
   "file_extension": ".py",
   "mimetype": "text/x-python",
   "name": "python",
   "nbconvert_exporter": "python",
   "pygments_lexer": "ipython3",
   "version": "3.8.3"
  }
 },
 "nbformat": 4,
 "nbformat_minor": 4
}
