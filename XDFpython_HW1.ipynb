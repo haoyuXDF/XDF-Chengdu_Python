{
 "cells": [
  {
   "cell_type": "markdown",
   "metadata": {},
   "source": [
    "# Homework #1 \n",
    "\n",
    "If you have questions you may contact me at brawleyseanmichael@xdf.cn"
   ]
  },
  {
   "cell_type": "markdown",
   "metadata": {},
   "source": [
    "### Question 1: Arithmetic\n",
    "\n",
    "##### Use comments `#` in your code to explain why you get each result\n",
    "\n",
    "1. `2+2+2+2+2`\n",
    "2. `2*2*2*3`\n",
    "3. `4 / 3 * 4 + 2`\n",
    "4. `3 + 2 + 4 * 2`\n",
    "5. `2 * 4 + 2 * 3`\n",
    "6. `3 + 5 // 2`\n",
    "7. `3**2 % 8`\n",
    "8. `8 * 3 / 2 + 2 + 7 - 9`"
   ]
  },
  {
   "cell_type": "code",
   "execution_count": null,
   "metadata": {},
   "outputs": [],
   "source": []
  },
  {
   "cell_type": "markdown",
   "metadata": {},
   "source": [
    "### Question 2\n",
    "\n",
    "make a variable called `spam` and set it to the value 15.\n",
    "\n",
    "try `spam = 15`\n",
    "\n",
    "and `15 = spam2`\n",
    "\n",
    "##### Show what the difference is between these two and explain why this is the case."
   ]
  },
  {
   "cell_type": "code",
   "execution_count": null,
   "metadata": {},
   "outputs": [],
   "source": []
  },
  {
   "cell_type": "markdown",
   "metadata": {},
   "source": [
    "## Question 3 - Data types and debugging\n",
    "\n",
    "### Take a look at the code and the comments, then answer question 3.1"
   ]
  },
  {
   "cell_type": "code",
   "execution_count": 40,
   "metadata": {},
   "outputs": [],
   "source": [
    "a = 'three'   # setting the variables\n",
    "b = 3\n",
    "c = 3.0\n",
    "\n",
    "d = '3.0'"
   ]
  },
  {
   "cell_type": "code",
   "execution_count": 41,
   "metadata": {},
   "outputs": [
    {
     "name": "stdout",
     "output_type": "stream",
     "text": [
      "<class 'str'>\n",
      "<class 'int'>\n",
      "<class 'float'>\n",
      "<class 'str'>\n"
     ]
    }
   ],
   "source": [
    "print(type(a)) # printing the type of each variables\n",
    "print(type(b))\n",
    "print(type(c))\n",
    "\n",
    "print(type(d))"
   ]
  },
  {
   "cell_type": "markdown",
   "metadata": {},
   "source": [
    "`a` is a string \\\n",
    "`b` is an integer \\\n",
    "`c` is a float \\\n",
    "\\\n",
    "`d` is also a string"
   ]
  },
  {
   "cell_type": "code",
   "execution_count": 44,
   "metadata": {},
   "outputs": [
    {
     "name": "stdout",
     "output_type": "stream",
     "text": [
      "threethreethree\n",
      "3.03.03.0\n"
     ]
    }
   ],
   "source": [
    "print(a * b)    # 'three' * 3.0\n",
    "print (b * d)   # 3.0 * '3.0'"
   ]
  },
  {
   "cell_type": "code",
   "execution_count": 46,
   "metadata": {},
   "outputs": [
    {
     "ename": "TypeError",
     "evalue": "can only concatenate str (not \"int\") to str",
     "output_type": "error",
     "traceback": [
      "\u001b[1;31m---------------------------------------------------------------------------\u001b[0m",
      "\u001b[1;31mTypeError\u001b[0m                                 Traceback (most recent call last)",
      "\u001b[1;32m<ipython-input-46-ca730b97bf8a>\u001b[0m in \u001b[0;36m<module>\u001b[1;34m\u001b[0m\n\u001b[1;32m----> 1\u001b[1;33m \u001b[0ma\u001b[0m\u001b[1;33m+\u001b[0m\u001b[0mb\u001b[0m\u001b[1;33m\u001b[0m\u001b[1;33m\u001b[0m\u001b[0m\n\u001b[0m",
      "\u001b[1;31mTypeError\u001b[0m: can only concatenate str (not \"int\") to str"
     ]
    }
   ],
   "source": [
    "a+b"
   ]
  },
  {
   "cell_type": "markdown",
   "metadata": {},
   "source": [
    "## Question 3.1 - Based on the above, explain why:\n",
    "A. `a*b` and `b*d` do not equal 9; \\\n",
    "B. `a+b` causes an error.\n"
   ]
  },
  {
   "cell_type": "markdown",
   "metadata": {},
   "source": [
    "\n"
   ]
  },
  {
   "cell_type": "markdown",
   "metadata": {},
   "source": [
    "## Question 3.2 - \n",
    "### The code below intends to calculate the cost of your breakfast based on how many eggs and how many servings of bacon you order. Identify why the code does not work and fix it.\n",
    "\n",
    "#### REMINDER: How to switch between data types\n",
    "\n",
    "`float(a)` will change `a` to a float.\n",
    "\n",
    "`str(a)` will change `a` to a string.\n",
    "\n",
    "`int(a)` will change `a` to an int.\n",
    "\n",
    "#### REMINDER: How to check the type\n",
    "\n",
    "`type(a)` will show the type of `a`\n",
    "\n",
    "* you can add a line `print(type(a))`, with `a` changed to the actual variable, in order to check what type it is "
   ]
  },
  {
   "cell_type": "code",
   "execution_count": 47,
   "metadata": {},
   "outputs": [],
   "source": [
    "import time  # this is just something that will allow the program to wait for a short moment, for effect"
   ]
  },
  {
   "cell_type": "code",
   "execution_count": 48,
   "metadata": {},
   "outputs": [],
   "source": [
    "# set the price of your eggs and your bacon\n",
    "eggs = 10.0\n",
    "bacon = 15.0"
   ]
  },
  {
   "cell_type": "code",
   "execution_count": null,
   "metadata": {},
   "outputs": [],
   "source": [
    "\n",
    "print('Good morning and welcome to my diner')          # welcome statement\n",
    "time.sleep(1.0)                                        #just makes the program wait a moment, for effect\n",
    "print('How many eggs would you like?')      \n",
    "num_eggs = input()\n",
    "print('How many servings of bacon would you like?')\n",
    "num_bacon = input()\n",
    "\n",
    "time.sleep(1.0)\n",
    "print(\"Okay, we'll get started right away on your order.\")\n",
    "\n",
    "price = num_eggss * eggs + num_bacons * bacon        # the calculation\n",
    "\n",
    "time.sleep(1.0)\n",
    "print('Once you are finished, the total will be ' + price +' RMB, thank you!')"
   ]
  },
  {
   "cell_type": "markdown",
   "metadata": {},
   "source": [
    "\n",
    "## Question 4 - Lists and indexing \n",
    "\n",
    "`mylist = [4,3,2,1,-2,3,-4,5]`\n",
    "\n",
    "\n",
    "#### What do these show and why?\n",
    "1. `mylist[1]`\n",
    "\n",
    "2. `mylist[0]`\n",
    "\n",
    "3. `mylist[-1]`\n",
    "\n",
    "4. `len(mylist)\n",
    "\n",
    "5. `mylist[len(mylist)]`\n",
    "\n",
    "#### Use code (all from the lecture notes) to show\n",
    "\n",
    "5. The sum of `mylist`\n",
    "\n",
    "6. The maxiumum of `mylist`\n",
    "\n",
    "7. The minimum of `mylist`\n",
    "\n",
    "#### Put these skills together to...\n",
    "8. Calculate the average value of `mylist`.\n"
   ]
  },
  {
   "cell_type": "code",
   "execution_count": 54,
   "metadata": {},
   "outputs": [],
   "source": [
    "mylist = [4,3,2,1,-2,3,-4,5]"
   ]
  },
  {
   "cell_type": "markdown",
   "metadata": {},
   "source": [
    "## EXTRA QUESTION - \n",
    "\n",
    "### 1. Add comments `#` to every single line of this code and explain what it is doing\n",
    "\n",
    "### 2. Change this code to calculate a sales tax of 5% and add it to the total price.\n",
    "\n",
    "### 3. Add a list that tells how many of each item is in stock, then display the stock after the purchase.\n"
   ]
  },
  {
   "cell_type": "code",
   "execution_count": 49,
   "metadata": {},
   "outputs": [],
   "source": [
    "import numpy as np\n",
    "foodnames = ['apples', 'oranges', 'bananas', 'watermelons']\n",
    "foodprices = [1.0, 3.0, 2.0, 8.0]\n",
    "\n",
    "number_of_items = len(foodnames)"
   ]
  },
  {
   "cell_type": "code",
   "execution_count": 50,
   "metadata": {},
   "outputs": [
    {
     "name": "stdout",
     "output_type": "stream",
     "text": [
      "Hi, welcome to Fruitopia!\n",
      "Have a look at our menu.\n",
      "\n",
      "MENU\n",
      "-------------------\n",
      "apples : 1.0\n",
      "oranges : 3.0\n",
      "bananas : 2.0\n",
      "watermelons : 8.0\n",
      "\n",
      "How many apples would you like?\n",
      "1\n",
      "How many oranges would you like?\n",
      "2\n",
      "How many bananas would you like?\n",
      "3\n",
      "How many watermelons would you like?\n",
      "4\n",
      "\n",
      "*hard thinking\n",
      "\n",
      "Your total comes to 45.0 RMB. 欢迎再来！\n"
     ]
    }
   ],
   "source": [
    "print('Hi, welcome to Fruitopia!')\n",
    "time.sleep(1.0)\n",
    "print('Have a look at our menu.')\n",
    "time.sleep(0.5)\n",
    "print()\n",
    "print('MENU')\n",
    "print('-------------------')\n",
    "\n",
    "i = 0                                                               # counter - will allow every entry in the list to be printed\n",
    "while i < len(foodnames):\n",
    "    print(foodnames[i] + ' : ' + str(foodprices[i]))\n",
    "    i+=1                                                            # i+=1 is the same as i = i + 1, it increase the counter by 1\n",
    "print()\n",
    "time.sleep(2.0)\n",
    "\n",
    "i=0\n",
    "numfruit = np.zeros_like(foodprices)                        #np.zeros_like(foodprices) creates an array that is the same size as foodprices \n",
    "\n",
    "while i < len(foodnames):\n",
    "    print('How many ' +foodnames[i] +' would you like?')\n",
    "    shuiguo = input()\n",
    "    numfruit[i] = float(shuiguo)\n",
    "    i += 1\n",
    "    \n",
    "\n",
    "prices = numfruit * foodprices\n",
    "\n",
    "price = sum(prices)\n",
    "\n",
    "print()\n",
    "print('*hard thinking')\n",
    "print()\n",
    "time.sleep(2.5)\n",
    "print('Your total comes to ' + str(price) + ' RMB. 欢迎再来！')\n"
   ]
  },
  {
   "cell_type": "code",
   "execution_count": null,
   "metadata": {},
   "outputs": [],
   "source": []
  }
 ],
 "metadata": {
  "kernelspec": {
   "display_name": "Python 3",
   "language": "python",
   "name": "python3"
  },
  "language_info": {
   "codemirror_mode": {
    "name": "ipython",
    "version": 3
   },
   "file_extension": ".py",
   "mimetype": "text/x-python",
   "name": "python",
   "nbconvert_exporter": "python",
   "pygments_lexer": "ipython3",
   "version": "3.8.3"
  }
 },
 "nbformat": 4,
 "nbformat_minor": 4
}
